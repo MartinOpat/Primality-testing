{
 "cells": [
  {
   "cell_type": "code",
   "execution_count": 1,
   "id": "a1947140",
   "metadata": {},
   "outputs": [],
   "source": [
    "import numpy as np\n",
    "import matplotlib.pyplot as plt"
   ]
  },
  {
   "cell_type": "code",
   "execution_count": 2,
   "id": "dd9bebc0",
   "metadata": {},
   "outputs": [],
   "source": [
    "f = open(\"bench0.txt\").readlines()"
   ]
  },
  {
   "cell_type": "code",
   "execution_count": 6,
   "id": "875cb85e",
   "metadata": {},
   "outputs": [
    {
     "name": "stdout",
     "output_type": "stream",
     "text": [
      "trial: 17872820.6 +/- 97841.89708782225\n",
      "Miller Rabin: 19987487.8 +/- 109727.32268681304\n",
      "BailliePSW: 19515260.8 +/- 83936.06409950374\n"
     ]
    }
   ],
   "source": [
    "runs = []\n",
    "for i in range(len(f)//5):\n",
    "    runs.append([])\n",
    "    runs[-1].append(f[5*i])\n",
    "    runs[-1].append(f[5*i+1])\n",
    "    runs[-1].append(f[5*i+2])\n",
    "    runs[-1].append(int(f[5*i+3].strip().split()[1]))\n",
    "    runs[-1].append(float(f[5*i+4].strip().split()[1]))\n",
    "\n",
    "trial = runs[:10]\n",
    "mr = runs[10:20]\n",
    "pse = runs[20:]\n",
    "\n",
    "# print(len(trial), trial)\n",
    "# print(len(mr), mr)\n",
    "# print(len(pse), pse)\n",
    "\n",
    "maxs_trial = [x[3] for x in trial]\n",
    "maxs_mr = [x[3] for x in mr]\n",
    "maxs_pse = [x[3] for x in pse]\n",
    "\n",
    "avg_max_trial = np.mean(maxs_trial)\n",
    "avg_max_mr = np.mean(maxs_mr)\n",
    "avg_max_pse = np.mean(maxs_pse)\n",
    "\n",
    "err_max_trial = np.std(maxs_trial) / np.sqrt(len(maxs_trial))\n",
    "err_max_mr = np.std(maxs_mr) / np.sqrt(len(maxs_mr))\n",
    "err_max_pse = np.std(maxs_pse) / np.sqrt(len(maxs_pse))\n",
    "\n",
    "print(f\"trial: {avg_max_trial} +/- {err_max_trial}\")\n",
    "print(f\"Miller Rabin: {avg_max_mr} +/- {err_max_mr}\")\n",
    "print(f\"BailliePSW: {avg_max_pse} +/- {err_max_pse}\")\n"
   ]
  }
 ],
 "metadata": {
  "kernelspec": {
   "display_name": ".venv",
   "language": "python",
   "name": "python3"
  },
  "language_info": {
   "codemirror_mode": {
    "name": "ipython",
    "version": 3
   },
   "file_extension": ".py",
   "mimetype": "text/x-python",
   "name": "python",
   "nbconvert_exporter": "python",
   "pygments_lexer": "ipython3",
   "version": "3.10.12"
  }
 },
 "nbformat": 4,
 "nbformat_minor": 5
}
